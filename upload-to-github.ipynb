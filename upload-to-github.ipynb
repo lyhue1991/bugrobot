{
 "cells": [
  {
   "cell_type": "code",
   "execution_count": 1,
   "metadata": {},
   "outputs": [
    {
     "name": "stdout",
     "output_type": "stream",
     "text": [
      "README.md                 setup.py                  微信报警机器人.jpg\r\n",
      "\u001b[36mbugrobot\u001b[m\u001b[m                  upload-to-github.ipynb\r\n"
     ]
    }
   ],
   "source": [
    "!ls "
   ]
  },
  {
   "cell_type": "code",
   "execution_count": 2,
   "metadata": {},
   "outputs": [
    {
     "name": "stdout",
     "output_type": "stream",
     "text": [
      "running sdist\n",
      "running egg_info\n",
      "creating bugrobot.egg-info\n",
      "writing bugrobot.egg-info/PKG-INFO\n",
      "writing dependency_links to bugrobot.egg-info/dependency_links.txt\n",
      "writing top-level names to bugrobot.egg-info/top_level.txt\n",
      "writing manifest file 'bugrobot.egg-info/SOURCES.txt'\n",
      "reading manifest file 'bugrobot.egg-info/SOURCES.txt'\n",
      "writing manifest file 'bugrobot.egg-info/SOURCES.txt'\n",
      "running check\n",
      "creating bugrobot-0.4\n",
      "creating bugrobot-0.4/bugrobot\n",
      "creating bugrobot-0.4/bugrobot.egg-info\n",
      "copying files to bugrobot-0.4...\n",
      "copying README.md -> bugrobot-0.4\n",
      "copying setup.py -> bugrobot-0.4\n",
      "copying bugrobot/__init__.py -> bugrobot-0.4/bugrobot\n",
      "copying bugrobot/bugrobot.py -> bugrobot-0.4/bugrobot\n",
      "copying bugrobot.egg-info/PKG-INFO -> bugrobot-0.4/bugrobot.egg-info\n",
      "copying bugrobot.egg-info/SOURCES.txt -> bugrobot-0.4/bugrobot.egg-info\n",
      "copying bugrobot.egg-info/dependency_links.txt -> bugrobot-0.4/bugrobot.egg-info\n",
      "copying bugrobot.egg-info/top_level.txt -> bugrobot-0.4/bugrobot.egg-info\n",
      "Writing bugrobot-0.4/setup.cfg\n",
      "creating dist\n",
      "Creating tar archive\n",
      "removing 'bugrobot-0.4' (and everything under it)\n",
      "running bdist_wheel\n",
      "running build\n",
      "running build_py\n",
      "creating build\n",
      "creating build/lib\n",
      "creating build/lib/bugrobot\n",
      "copying bugrobot/bugrobot.py -> build/lib/bugrobot\n",
      "copying bugrobot/__init__.py -> build/lib/bugrobot\n",
      "installing to build/bdist.macosx-10.9-x86_64/wheel\n",
      "running install\n",
      "running install_lib\n",
      "creating build/bdist.macosx-10.9-x86_64\n",
      "creating build/bdist.macosx-10.9-x86_64/wheel\n",
      "creating build/bdist.macosx-10.9-x86_64/wheel/bugrobot\n",
      "copying build/lib/bugrobot/bugrobot.py -> build/bdist.macosx-10.9-x86_64/wheel/bugrobot\n",
      "copying build/lib/bugrobot/__init__.py -> build/bdist.macosx-10.9-x86_64/wheel/bugrobot\n",
      "running install_egg_info\n",
      "Copying bugrobot.egg-info to build/bdist.macosx-10.9-x86_64/wheel/bugrobot-0.4-py3.8.egg-info\n",
      "running install_scripts\n",
      "creating build/bdist.macosx-10.9-x86_64/wheel/bugrobot-0.4.dist-info/WHEEL\n",
      "creating 'dist/bugrobot-0.4-py3-none-any.whl' and adding 'build/bdist.macosx-10.9-x86_64/wheel' to it\n",
      "adding 'bugrobot/__init__.py'\n",
      "adding 'bugrobot/bugrobot.py'\n",
      "adding 'bugrobot-0.4.dist-info/METADATA'\n",
      "adding 'bugrobot-0.4.dist-info/WHEEL'\n",
      "adding 'bugrobot-0.4.dist-info/top_level.txt'\n",
      "adding 'bugrobot-0.4.dist-info/RECORD'\n",
      "removing build/bdist.macosx-10.9-x86_64/wheel\n"
     ]
    }
   ],
   "source": [
    "%run setup.py sdist bdist_wheel\n",
    "#%run setup.py bdist_wheel"
   ]
  },
  {
   "cell_type": "code",
   "execution_count": null,
   "metadata": {},
   "outputs": [],
   "source": [
    "!pip install --user --upgrade twine"
   ]
  },
  {
   "cell_type": "code",
   "execution_count": null,
   "metadata": {},
   "outputs": [],
   "source": [
    "#!python3 -m twine upload --repository-url https://test.pypi.org/legacy/ dist/*"
   ]
  },
  {
   "cell_type": "code",
   "execution_count": null,
   "metadata": {},
   "outputs": [],
   "source": [
    "#!python3 -m twine upload dist/*"
   ]
  },
  {
   "cell_type": "code",
   "execution_count": null,
   "metadata": {},
   "outputs": [],
   "source": [
    "#!python3 -m pip install --index-url https://test.pypi.org/simple/ --no-deps easyeda"
   ]
  },
  {
   "cell_type": "code",
   "execution_count": null,
   "metadata": {},
   "outputs": [],
   "source": [
    "#!pip install easyeda"
   ]
  },
  {
   "cell_type": "code",
   "execution_count": 3,
   "metadata": {},
   "outputs": [],
   "source": [
    "!git config --global user.name \"lyhue1991\"\n",
    "!git config --global user.email \"lyhue1991@163.com\"\n",
    "\n",
    "# 出现一些类似 warning: LF will be replaced by CRLF in <file-name>. 可启用如下设置。\n",
    "!git config --global core.autocrlf false\n",
    "\n",
    "# 配置打印历史commit的快捷命令\n",
    "!git config --global alias.lg \"log --oneline --graph --all\""
   ]
  },
  {
   "cell_type": "code",
   "execution_count": 4,
   "metadata": {},
   "outputs": [
    {
     "name": "stdout",
     "output_type": "stream",
     "text": [
      "Initialized empty Git repository in /Users/liangyun/CodeFiles/bugrobot/.git/\r\n"
     ]
    }
   ],
   "source": [
    "!git init"
   ]
  },
  {
   "cell_type": "code",
   "execution_count": 24,
   "metadata": {},
   "outputs": [],
   "source": [
    "!git add -A"
   ]
  },
  {
   "cell_type": "code",
   "execution_count": 25,
   "metadata": {},
   "outputs": [
    {
     "name": "stdout",
     "output_type": "stream",
     "text": [
      "[master 6d09fc9] revise readme\r\n",
      " 2 files changed, 299 insertions(+), 569 deletions(-)\r\n",
      " rewrite .ipynb_checkpoints/upload-to-github-checkpoint.ipynb (83%)\r\n"
     ]
    }
   ],
   "source": [
    "!git commit -m\"revise readme\" "
   ]
  },
  {
   "cell_type": "code",
   "execution_count": null,
   "metadata": {},
   "outputs": [],
   "source": []
  },
  {
   "cell_type": "code",
   "execution_count": null,
   "metadata": {},
   "outputs": [],
   "source": [
    "!git remote remove origin"
   ]
  },
  {
   "cell_type": "code",
   "execution_count": 14,
   "metadata": {},
   "outputs": [
    {
     "name": "stdout",
     "output_type": "stream",
     "text": [
      "fatal: remote origin already exists.\r\n"
     ]
    }
   ],
   "source": [
    "!git remote add origin https://github.com/lyhue1991/bugrobot"
   ]
  },
  {
   "cell_type": "code",
   "execution_count": null,
   "metadata": {},
   "outputs": [],
   "source": [
    "!git rebase origin/master"
   ]
  },
  {
   "cell_type": "code",
   "execution_count": 20,
   "metadata": {},
   "outputs": [
    {
     "name": "stdout",
     "output_type": "stream",
     "text": [
      "Enumerating objects: 9, done.\n",
      "Counting objects: 100% (9/9), done.\n",
      "Delta compression using up to 4 threads\n",
      "Compressing objects: 100% (5/5), done.\n",
      "Writing objects: 100% (5/5), 1.15 KiB | 393.00 KiB/s, done.\n",
      "Total 5 (delta 3), reused 0 (delta 0)\n",
      "remote: Resolving deltas: 100% (3/3), completed with 3 local objects.\u001b[K\n",
      "To github.com:lyhue1991/bugrobot.git\n",
      "   d258646..8a8e2c8  master -> master\n"
     ]
    }
   ],
   "source": [
    "!git push origin master "
   ]
  }
 ],
 "metadata": {
  "kernelspec": {
   "display_name": "Python 3",
   "language": "python",
   "name": "python3"
  },
  "language_info": {
   "codemirror_mode": {
    "name": "ipython",
    "version": 3
   },
   "file_extension": ".py",
   "mimetype": "text/x-python",
   "name": "python",
   "nbconvert_exporter": "python",
   "pygments_lexer": "ipython3",
   "version": "3.8.8"
  }
 },
 "nbformat": 4,
 "nbformat_minor": 2
}
