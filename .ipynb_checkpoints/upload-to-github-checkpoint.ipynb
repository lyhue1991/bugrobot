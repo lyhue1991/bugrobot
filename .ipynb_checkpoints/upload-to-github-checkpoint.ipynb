{
 "cells": [
  {
   "cell_type": "code",
   "execution_count": 1,
   "metadata": {},
   "outputs": [
    {
     "name": "stdout",
     "output_type": "stream",
     "text": [
      "running sdist\n",
      "running egg_info\n",
      "creating easyeda.egg-info\n",
      "writing easyeda.egg-info/PKG-INFO\n",
      "writing dependency_links to easyeda.egg-info/dependency_links.txt\n",
      "writing top-level names to easyeda.egg-info/top_level.txt\n",
      "writing manifest file 'easyeda.egg-info/SOURCES.txt'\n",
      "reading manifest file 'easyeda.egg-info/SOURCES.txt'\n",
      "writing manifest file 'easyeda.egg-info/SOURCES.txt'\n",
      "running check\n",
      "creating easyeda-2.0\n",
      "creating easyeda-2.0/easyeda\n",
      "creating easyeda-2.0/easyeda.egg-info\n",
      "copying files to easyeda-2.0...\n",
      "copying README.md -> easyeda-2.0\n",
      "copying setup.py -> easyeda-2.0\n",
      "copying easyeda/__init__.py -> easyeda-2.0/easyeda\n",
      "copying easyeda/eda.py -> easyeda-2.0/easyeda\n",
      "copying easyeda.egg-info/PKG-INFO -> easyeda-2.0/easyeda.egg-info\n",
      "copying easyeda.egg-info/SOURCES.txt -> easyeda-2.0/easyeda.egg-info\n",
      "copying easyeda.egg-info/dependency_links.txt -> easyeda-2.0/easyeda.egg-info\n",
      "copying easyeda.egg-info/top_level.txt -> easyeda-2.0/easyeda.egg-info\n",
      "Writing easyeda-2.0/setup.cfg\n",
      "creating dist\n",
      "Creating tar archive\n",
      "removing 'easyeda-2.0' (and everything under it)\n",
      "running bdist_wheel\n",
      "running build\n",
      "running build_py\n",
      "creating build\n",
      "creating build/lib\n",
      "creating build/lib/easyeda\n",
      "copying easyeda/__init__.py -> build/lib/easyeda\n",
      "copying easyeda/eda.py -> build/lib/easyeda\n",
      "installing to build/bdist.macosx-10.7-x86_64/wheel\n",
      "running install\n",
      "running install_lib\n",
      "creating build/bdist.macosx-10.7-x86_64\n",
      "creating build/bdist.macosx-10.7-x86_64/wheel\n",
      "creating build/bdist.macosx-10.7-x86_64/wheel/easyeda\n",
      "copying build/lib/easyeda/__init__.py -> build/bdist.macosx-10.7-x86_64/wheel/easyeda\n",
      "copying build/lib/easyeda/eda.py -> build/bdist.macosx-10.7-x86_64/wheel/easyeda\n",
      "running install_egg_info\n",
      "Copying easyeda.egg-info to build/bdist.macosx-10.7-x86_64/wheel/easyeda-2.0-py3.7.egg-info\n",
      "running install_scripts\n",
      "adding license file \"LICENSE\" (matched pattern \"LICEN[CS]E*\")\n",
      "creating build/bdist.macosx-10.7-x86_64/wheel/easyeda-2.0.dist-info/WHEEL\n",
      "creating 'dist/easyeda-2.0-py3-none-any.whl' and adding 'build/bdist.macosx-10.7-x86_64/wheel' to it\n",
      "adding 'easyeda/__init__.py'\n",
      "adding 'easyeda/eda.py'\n",
      "adding 'easyeda-2.0.dist-info/LICENSE'\n",
      "adding 'easyeda-2.0.dist-info/METADATA'\n",
      "adding 'easyeda-2.0.dist-info/WHEEL'\n",
      "adding 'easyeda-2.0.dist-info/top_level.txt'\n",
      "adding 'easyeda-2.0.dist-info/RECORD'\n",
      "removing build/bdist.macosx-10.7-x86_64/wheel\n"
     ]
    }
   ],
   "source": [
    "%run setup.py sdist bdist_wheel\n",
    "#%run setup.py bdist_wheel"
   ]
  },
  {
   "cell_type": "code",
   "execution_count": 2,
   "metadata": {},
   "outputs": [
    {
     "name": "stdout",
     "output_type": "stream",
     "text": [
      "Requirement already up-to-date: twine in /Users/liangyun/.local/lib/python3.7/site-packages (2.0.0)\n",
      "Requirement already satisfied, skipping upgrade: setuptools>=0.7.0 in /Users/liangyun/.local/lib/python3.7/site-packages (from twine) (41.4.0)\n",
      "Requirement already satisfied, skipping upgrade: requests-toolbelt!=0.9.0,>=0.8.0 in /Users/liangyun/.local/lib/python3.7/site-packages (from twine) (0.9.1)\n",
      "Requirement already satisfied, skipping upgrade: readme-renderer>=21.0 in /Users/liangyun/.local/lib/python3.7/site-packages (from twine) (24.0)\n",
      "Requirement already satisfied, skipping upgrade: requests>=2.20 in /Users/liangyun/anaconda3/lib/python3.7/site-packages (from twine) (2.21.0)\n",
      "Requirement already satisfied, skipping upgrade: pkginfo>=1.4.2 in /Users/liangyun/anaconda3/lib/python3.7/site-packages (from twine) (1.5.0.1)\n",
      "Requirement already satisfied, skipping upgrade: tqdm>=4.14 in /Users/liangyun/anaconda3/lib/python3.7/site-packages (from twine) (4.31.1)\n",
      "Requirement already satisfied, skipping upgrade: bleach>=2.1.0 in /Users/liangyun/anaconda3/lib/python3.7/site-packages (from readme-renderer>=21.0->twine) (3.1.0)\n",
      "Requirement already satisfied, skipping upgrade: six in /Users/liangyun/anaconda3/lib/python3.7/site-packages (from readme-renderer>=21.0->twine) (1.12.0)\n",
      "Requirement already satisfied, skipping upgrade: Pygments in /Users/liangyun/anaconda3/lib/python3.7/site-packages (from readme-renderer>=21.0->twine) (2.3.1)\n",
      "Requirement already satisfied, skipping upgrade: docutils>=0.13.1 in /Users/liangyun/anaconda3/lib/python3.7/site-packages (from readme-renderer>=21.0->twine) (0.14)\n",
      "Requirement already satisfied, skipping upgrade: chardet<3.1.0,>=3.0.2 in /Users/liangyun/anaconda3/lib/python3.7/site-packages (from requests>=2.20->twine) (3.0.4)\n",
      "Requirement already satisfied, skipping upgrade: idna<2.9,>=2.5 in /Users/liangyun/anaconda3/lib/python3.7/site-packages (from requests>=2.20->twine) (2.8)\n",
      "Requirement already satisfied, skipping upgrade: urllib3<1.25,>=1.21.1 in /Users/liangyun/anaconda3/lib/python3.7/site-packages (from requests>=2.20->twine) (1.24.1)\n",
      "Requirement already satisfied, skipping upgrade: certifi>=2017.4.17 in /Users/liangyun/anaconda3/lib/python3.7/site-packages (from requests>=2.20->twine) (2019.3.9)\n",
      "Requirement already satisfied, skipping upgrade: webencodings in /Users/liangyun/anaconda3/lib/python3.7/site-packages (from bleach>=2.1.0->readme-renderer>=21.0->twine) (0.5.1)\n"
     ]
    }
   ],
   "source": [
    "!pip install --user --upgrade twine"
   ]
  },
  {
   "cell_type": "code",
   "execution_count": null,
   "metadata": {},
   "outputs": [
    {
     "name": "stdout",
     "output_type": "stream",
     "text": [
      "Enter your username: "
     ]
    }
   ],
   "source": [
    "#!python3 -m twine upload --repository-url https://test.pypi.org/legacy/ dist/*"
   ]
  },
  {
   "cell_type": "code",
   "execution_count": null,
   "metadata": {},
   "outputs": [],
   "source": [
    "#!python3 -m twine upload dist/*"
   ]
  },
  {
   "cell_type": "code",
   "execution_count": null,
   "metadata": {},
   "outputs": [],
   "source": [
    "#!python3 -m pip install --index-url https://test.pypi.org/simple/ --no-deps easyeda"
   ]
  },
  {
   "cell_type": "code",
   "execution_count": null,
   "metadata": {},
   "outputs": [],
   "source": [
    "#!pip install easyeda"
   ]
  },
  {
   "cell_type": "code",
   "execution_count": 2,
   "metadata": {},
   "outputs": [],
   "source": [
    "!git config --global user.name \"lyhue1991\"\n",
    "!git config --global user.email \"lyhue1991@163.com\"\n",
    "\n",
    "# 出现一些类似 warning: LF will be replaced by CRLF in <file-name>. 可启用如下设置。\n",
    "!git config --global core.autocrlf false\n",
    "\n",
    "# 配置打印历史commit的快捷命令\n",
    "!git config --global alias.lg \"log --oneline --graph --all\""
   ]
  },
  {
   "cell_type": "code",
   "execution_count": 2,
   "metadata": {},
   "outputs": [
    {
     "name": "stdout",
     "output_type": "stream",
     "text": [
      "Reinitialized existing Git repository in /Users/liangyun/CodeFiles/easyeda/.git/\r\n"
     ]
    }
   ],
   "source": [
    "!git init"
   ]
  },
  {
   "cell_type": "code",
   "execution_count": 2,
   "metadata": {},
   "outputs": [],
   "source": [
    "!git add -A"
   ]
  },
  {
   "cell_type": "code",
   "execution_count": 3,
   "metadata": {},
   "outputs": [
    {
     "name": "stdout",
     "output_type": "stream",
     "text": [
      "[master f640ded] v02\r\n",
      " 17 files changed, 673 insertions(+), 71 deletions(-)\r\n",
      " rename __init__.py => build/lib/easyeda/__init__.py (100%)\r\n",
      " rename eda.py => build/lib/easyeda/eda.py (100%)\r\n",
      " delete mode 100644 dist/easyeda-1.0-py3-none-any.whl\r\n",
      " delete mode 100644 dist/easyeda-1.0.tar.gz\r\n",
      " create mode 100644 dist/easyeda-2.0-py3-none-any.whl\r\n",
      " create mode 100644 dist/easyeda-2.0.tar.gz\r\n",
      " delete mode 100644 easyeda.egg-info/requires.txt\r\n",
      " create mode 100644 easyeda/__init__.py\r\n",
      " create mode 100644 easyeda/eda.py\r\n",
      " create mode 100644 readme.jpg\r\n"
     ]
    }
   ],
   "source": [
    "!git commit -m\"v02\""
   ]
  },
  {
   "cell_type": "code",
   "execution_count": null,
   "metadata": {},
   "outputs": [],
   "source": []
  },
  {
   "cell_type": "code",
   "execution_count": 5,
   "metadata": {},
   "outputs": [],
   "source": [
    "!git remote remove origin"
   ]
  },
  {
   "cell_type": "code",
   "execution_count": 6,
   "metadata": {},
   "outputs": [],
   "source": [
    "!git remote add origin https://github.com/lyhue1991/easyeda"
   ]
  },
  {
   "cell_type": "code",
   "execution_count": 3,
   "metadata": {},
   "outputs": [
    {
     "name": "stdout",
     "output_type": "stream",
     "text": [
      "Current branch master is up to date.\r\n"
     ]
    }
   ],
   "source": [
    "!git rebase origin/master"
   ]
  },
  {
   "cell_type": "code",
   "execution_count": 4,
   "metadata": {},
   "outputs": [
    {
     "name": "stdout",
     "output_type": "stream",
     "text": [
      "Enumerating objects: 29, done.\n",
      "Counting objects: 100% (29/29), done.\n",
      "Delta compression using up to 4 threads\n",
      "Compressing objects: 100% (15/15), done.\n",
      "Writing objects: 100% (18/18), 148.70 KiB | 11.44 MiB/s, done.\n",
      "Total 18 (delta 6), reused 0 (delta 0)\n",
      "remote: Resolving deltas: 100% (6/6), completed with 5 local objects.\u001b[K\n",
      "To https://github.com/lyhue1991/easyeda\n",
      "   8c946bb..f640ded  master -> master\n",
      "Branch 'master' set up to track remote branch 'master' from 'origin'.\n"
     ]
    }
   ],
   "source": [
    "!git push -u origin master "
   ]
  },
  {
   "cell_type": "code",
   "execution_count": 24,
   "metadata": {},
   "outputs": [
    {
     "name": "stderr",
     "output_type": "stream",
     "text": [
      "progress: 100%|██████████| 31/31 [00:00<00:00, 618.03it/s]\n",
      "progress: 100%|██████████| 31/31 [00:00<00:00, 1150.62it/s]\n",
      "progress: 100%|██████████| 31/31 [00:00<00:00, 1119.77it/s]\n",
      "progress: 100%|██████████| 31/31 [00:00<00:00, 2802.17it/s]"
     ]
    },
    {
     "name": "stdout",
     "output_type": "stream",
     "text": [
      "start exploration data analysis...\n",
      "\n",
      "================================================================================ 2019-10-19 10:55:09\n",
      "step1: count features & samples...\n",
      "\n",
      "train samples number : 398\n",
      "test samples number : 171\n",
      "features number : 30\n",
      "\n",
      "\n",
      "================================================================================ 2019-10-19 10:55:09\n",
      "step2: evaluate not nan ratio...\n",
      "\n",
      "\n",
      "\n",
      "================================================================================ 2019-10-19 10:55:09\n",
      "step3: evaluate not zero ratio...\n",
      "\n",
      "\n",
      "\n",
      "================================================================================ 2019-10-19 10:55:09\n",
      "step4: evaluate not negative ratio...\n",
      "\n",
      "\n",
      "\n",
      "================================================================================ 2019-10-19 10:55:09\n",
      "step5: evaluate classes count...\n",
      "\n",
      "\n",
      "\n",
      "================================================================================ 2019-10-19 10:55:09\n",
      "step6: evaluate most value...\n",
      "\n",
      "\n",
      "\n",
      "================================================================================ 2019-10-19 10:55:09\n",
      "step7: evaluate relativity...\n",
      "\n",
      "\n",
      "\n",
      "================================================================================ 2019-10-19 10:55:09\n",
      "step8: evaluate stability...\n",
      "\n",
      "\n",
      "\n",
      "================================================================================ 2019-10-19 10:55:09\n",
      "step9: evaluate value distribution...\n",
      "\n",
      "\n",
      "\n",
      "================================================================================ 2019-10-19 10:55:09\n",
      "tast end...\n",
      "\n",
      "\n",
      "\n"
     ]
    },
    {
     "name": "stderr",
     "output_type": "stream",
     "text": [
      "\n"
     ]
    },
    {
     "name": "stdout",
     "output_type": "stream",
     "text": [
      "                         not_nan_ratio  not_nan_zero_ratio  \\\n",
      "mean radius                        1.0            1.000000   \n",
      "mean texture                       1.0            1.000000   \n",
      "mean perimeter                     1.0            1.000000   \n",
      "mean area                          1.0            1.000000   \n",
      "mean smoothness                    1.0            1.000000   \n",
      "mean compactness                   1.0            1.000000   \n",
      "mean concavity                     1.0            0.974874   \n",
      "mean concave points                1.0            0.974874   \n",
      "mean symmetry                      1.0            1.000000   \n",
      "mean fractal dimension             1.0            1.000000   \n",
      "radius error                       1.0            1.000000   \n",
      "texture error                      1.0            1.000000   \n",
      "perimeter error                    1.0            1.000000   \n",
      "area error                         1.0            1.000000   \n",
      "smoothness error                   1.0            1.000000   \n",
      "compactness error                  1.0            1.000000   \n",
      "concavity error                    1.0            0.974874   \n",
      "concave points error               1.0            0.974874   \n",
      "symmetry error                     1.0            1.000000   \n",
      "fractal dimension error            1.0            1.000000   \n",
      "worst radius                       1.0            1.000000   \n",
      "worst texture                      1.0            1.000000   \n",
      "worst perimeter                    1.0            1.000000   \n",
      "worst area                         1.0            1.000000   \n",
      "worst smoothness                   1.0            1.000000   \n",
      "worst compactness                  1.0            1.000000   \n",
      "worst concavity                    1.0            0.974874   \n",
      "worst concave points               1.0            0.974874   \n",
      "worst symmetry                     1.0            1.000000   \n",
      "worst fractal dimension            1.0            1.000000   \n",
      "label                              1.0            0.640704   \n",
      "\n",
      "                         not_nan_zero_minus1_ratio  classes_count        most  \\\n",
      "mean radius                               1.000000            347   10.260000   \n",
      "mean texture                              1.000000            347   16.840000   \n",
      "mean perimeter                            1.000000            377   61.490000   \n",
      "mean area                                 1.000000            383  321.600000   \n",
      "mean smoothness                           1.000000            347    0.085110   \n",
      "mean compactness                          1.000000            381    0.038340   \n",
      "mean concavity                            0.974874            380    0.000000   \n",
      "mean concave points                       0.974874            382    0.000000   \n",
      "mean symmetry                             1.000000            328    0.176900   \n",
      "mean fractal dimension                    1.000000            364    0.056670   \n",
      "radius error                              1.000000            385    0.184000   \n",
      "texture error                             1.000000            378    0.856100   \n",
      "perimeter error                           1.000000            377    1.778000   \n",
      "area error                                1.000000            374   16.640000   \n",
      "smoothness error                          1.000000            388    0.005251   \n",
      "compactness error                         1.000000            383    0.011040   \n",
      "concavity error                           0.974874            375    0.000000   \n",
      "concave points error                      0.974874            365    0.000000   \n",
      "symmetry error                            1.000000            352    0.013440   \n",
      "fractal dimension error                   1.000000            381    0.001784   \n",
      "worst radius                              1.000000            340   12.360000   \n",
      "worst texture                             1.000000            368   16.930000   \n",
      "worst perimeter                           1.000000            375   76.510000   \n",
      "worst area                                1.000000            388  402.800000   \n",
      "worst smoothness                          1.000000            321    0.123400   \n",
      "worst compactness                         1.000000            381    0.073480   \n",
      "worst concavity                           0.974874            383    0.000000   \n",
      "worst concave points                      0.974874            358    0.000000   \n",
      "worst symmetry                            1.000000            355    0.222600   \n",
      "worst fractal dimension                   1.000000            383    0.063860   \n",
      "label                                     0.640704              2    1.000000   \n",
      "\n",
      "                         relativity  stability  \\\n",
      "mean radius                0.749294   0.912560   \n",
      "mean texture               0.483285   0.939331   \n",
      "mean perimeter             0.778308   0.910018   \n",
      "mean area                  0.755958   0.901907   \n",
      "mean smoothness            0.353928   0.934042   \n",
      "mean compactness           0.648375   0.931118   \n",
      "mean concavity             0.808830   0.950175   \n",
      "mean concave points        0.842945   0.898748   \n",
      "mean symmetry              0.328123   0.933777   \n",
      "mean fractal dimension     0.152338   0.886185   \n",
      "radius error               0.638969   0.910797   \n",
      "texture error              0.120335   0.966235   \n",
      "perimeter error            0.642890   0.889917   \n",
      "area error                 0.756808   0.899439   \n",
      "smoothness error           0.096092   0.832555   \n",
      "compactness error          0.462169   0.914206   \n",
      "concavity error            0.523927   0.962694   \n",
      "concave points error       0.510270   0.916336   \n",
      "symmetry error             0.189113   0.889036   \n",
      "fractal dimension error    0.245249   0.888257   \n",
      "worst radius               0.821445   0.891637   \n",
      "worst texture              0.477526   0.957845   \n",
      "worst perimeter            0.854710   0.887522   \n",
      "worst area                 0.823667   0.894105   \n",
      "worst smoothness           0.459756   0.901114   \n",
      "worst compactness          0.587330   0.934277   \n",
      "worst concavity            0.731249   0.916556   \n",
      "worst concave points       0.857589   0.918628   \n",
      "worst symmetry             0.327547   0.935819   \n",
      "worst fractal dimension    0.330152   0.879250   \n",
      "label                      1.000000   0.955788   \n",
      "\n",
      "                                                              distribution  \n",
      "mean radius              [(11.71, 3), (10.26, 3), (11.89, 3), (12.77, 3...  \n",
      "mean texture             [(20.52, 3), (16.84, 3), (18.22, 3), (21.25, 2...  \n",
      "mean perimeter           [(73.34, 2), (87.32, 2), (74.72, 2), (79.19, 2...  \n",
      "mean area                [(420.3, 2), (372.7, 2), (514.3, 2), (399.8, 2...  \n",
      "mean smoothness          [(0.09462, 3), (0.115, 3), (0.1082, 3), (0.100...  \n",
      "mean compactness         [(0.07698, 2), (0.05794, 2), (0.1267, 2), (0.1...  \n",
      "mean concavity           [(0.0, 10), (0.2448, 2), (0.1085, 2), (0.1204,...  \n",
      "mean concave points      [(0.0, 10), (0.1043, 2), (0.1242, 2), (0.02272...  \n",
      "mean symmetry            [(0.1769, 4), (0.1893, 4), (0.193, 3), (0.1809...  \n",
      "mean fractal dimension   [(0.06782, 3), (0.05667, 3), (0.05907, 2), (0....  \n",
      "radius error             [(0.1924, 2), (0.3534, 2), (0.2957, 2), (0.206...  \n",
      "texture error            [(0.8561, 3), (1.023, 2), (1.046, 2), (1.363, ...  \n",
      "perimeter error          [(1.778, 3), (2.183, 2), (1.429, 2), (2.225, 2...  \n",
      "area error               [(17.67, 3), (16.64, 3), (18.15, 2), (104.9, 2...  \n",
      "smoothness error         [(0.00604, 2), (0.005251, 2), (0.01291, 2), (0...  \n",
      "compactness error        [(0.01646, 2), (0.01819, 2), (0.01395, 2), (0....  \n",
      "concavity error          [(0.0, 10), (0.01079, 2), (0.03452, 2), (0.029...  \n",
      "concave points error     [(0.0, 10), (0.01499, 3), (0.01004, 2), (0.011...  \n",
      "symmetry error           [(0.01344, 3), (0.01647, 3), (0.0187, 3), (0.0...  \n",
      "fractal dimension error  [(0.003317, 2), (0.003002, 2), (0.002701, 2), ...  \n",
      "worst radius             [(12.36, 4), (13.74, 3), (12.4, 3), (13.34, 3)...  \n",
      "worst texture            [(17.7, 2), (33.17, 2), (22.88, 2), (28.14, 2)...  \n",
      "worst perimeter          [(112.0, 2), (145.4, 2), (76.51, 2), (101.7, 2...  \n",
      "worst area               [(1437.0, 2), (472.4, 2), (698.8, 2), (706.0, ...  \n",
      "worst smoothness         [(0.1256, 4), (0.1234, 4), (0.1275, 4), (0.146...  \n",
      "worst compactness        [(0.3089, 2), (0.4706, 2), (0.448, 2), (0.1773...  \n",
      "worst concavity          [(0.0, 10), (0.4504, 3), (0.1564, 2), (0.1811,...  \n",
      "worst concave points     [(0.0, 10), (0.02564, 3), (0.03846, 2), (0.105...  \n",
      "worst symmetry           [(0.2226, 3), (0.2972, 3), (0.2383, 3), (0.243...  \n",
      "worst fractal dimension  [(0.07722, 2), (0.07738, 2), (0.07427, 2), (0....  \n",
      "label                                             [(1.0, 255), (0.0, 143)]  \n"
     ]
    }
   ],
   "source": [
    "%run eda.py"
   ]
  },
  {
   "cell_type": "code",
   "execution_count": 11,
   "metadata": {},
   "outputs": [],
   "source": [
    "from eda import eda"
   ]
  }
 ],
 "metadata": {
  "kernelspec": {
   "display_name": "Python 3",
   "language": "python",
   "name": "python3"
  },
  "language_info": {
   "codemirror_mode": {
    "name": "ipython",
    "version": 3
   },
   "file_extension": ".py",
   "mimetype": "text/x-python",
   "name": "python",
   "nbconvert_exporter": "python",
   "pygments_lexer": "ipython3",
   "version": "3.8.8"
  }
 },
 "nbformat": 4,
 "nbformat_minor": 2
}
